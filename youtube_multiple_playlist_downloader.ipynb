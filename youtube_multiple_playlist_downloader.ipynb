{
  "nbformat": 4,
  "nbformat_minor": 0,
  "metadata": {
    "colab": {
      "name": "youtube_multiple_playlist_downloader.ipynb",
      "private_outputs": true,
      "provenance": []
    },
    "kernelspec": {
      "name": "python3",
      "display_name": "Python 3"
    },
    "language_info": {
      "name": "python"
    },
    "accelerator": "TPU"
  },
  "cells": [
    {
      "cell_type": "code",
      "metadata": {
        "id": "eGNACV1ZIDJW"
      },
      "source": [
        "%cd drive/MyDrive/neet/\n",
        "%ls"
      ],
      "execution_count": null,
      "outputs": []
    },
    {
      "cell_type": "code",
      "metadata": {
        "id": "FZryalRrIYA2"
      },
      "source": [
        "%pip install pytube"
      ],
      "execution_count": null,
      "outputs": []
    },
    {
      "cell_type": "code",
      "metadata": {
        "id": "mN0_j-YSO-LS"
      },
      "source": [
        "import pandas as pd\n",
        "#this csv file contains links of all the playlist links with name of the playlist self assigneed (2 columns)\n",
        "df = pd.read_csv('biology_neet.csv')"
      ],
      "execution_count": null,
      "outputs": []
    },
    {
      "cell_type": "code",
      "metadata": {
        "id": "F--_X7aEPJuz"
      },
      "source": [
        "df.columns = ['name','link']"
      ],
      "execution_count": null,
      "outputs": []
    },
    {
      "cell_type": "code",
      "metadata": {
        "id": "ErAoaN3pqnEL"
      },
      "source": [
        "# print(df)\n",
        "for i in range(len(df)):\n",
        "  print(df['name'][i])\n",
        "\n",
        "for i in range(len(df)):\n",
        "  print(df['link'][i])"
      ],
      "execution_count": null,
      "outputs": []
    },
    {
      "cell_type": "code",
      "metadata": {
        "id": "0Wx3ckKiIZ1v"
      },
      "source": [
        "from pytube import Playlist\n",
        "import pandas as pd\n",
        "\n",
        "def convert(s):\n",
        "  ans=\"\"\n",
        "  for i in range(len(s)):\n",
        "    if s[i].isalnum():\n",
        "      ans+=s[i]\n",
        "    else:\n",
        "        if s[i]==' ':\n",
        "          ans+='_'\n",
        "  return ans\n",
        "\n",
        "df = pd.read_csv('biology_neet.csv')\n",
        "df.columns = ['name','link']\n",
        "for count in range(len(df)):\n",
        "  playlist = Playlist(df['link'][count])\n",
        "  print('Number of videos in playlist: %s' % len(playlist.video_urls))\n",
        "  # playlist.download_all()\n",
        "  from pytube import YouTube\n",
        "  data = []\n",
        "  i=0\n",
        "  while i<(len(playlist)):\n",
        "    check = False\n",
        "    try :\n",
        "      yt = YouTube(playlist[i])\n",
        "      yt.title = convert(yt.title)\n",
        "      print(yt.title)\n",
        "      data.append(yt.title)\n",
        "      check = True\n",
        "      stream = yt.streams.first()\n",
        "      #path where the downloaded files are stored\n",
        "      stream.download('/content/drive/My Drive/neet')\n",
        "    except : \n",
        "      i-=1\n",
        "      if len(data)!=0 and check==True :\n",
        "        data.pop()\n",
        "      print(\"An exception occured\")\n",
        "      print(\"Trying to download again\")\n",
        "    i+=1\n",
        "  # Create a ZipFile Object\n",
        "  from zipfile import ZipFile\n",
        "\n",
        "  file = open(df['name'][count]+'.zip', 'w').close()\n",
        "\n",
        "  with ZipFile(df['name'][count]+'.zip', 'w') as zipObj2:\n",
        "    for i in range(len(data)):\n",
        "      print(data[i])\n",
        "      zipObj2.write(data[i]+'.mp4')\n",
        "  zipObj2.close()\n",
        "  import os\n",
        "  for i in range(len(data)):\n",
        "    os.system(\"rm \"+data[i]+'.mp4')"
      ],
      "execution_count": null,
      "outputs": []
    },
    {
      "cell_type": "code",
      "metadata": {
        "id": "CUkDXHpRPnT2"
      },
      "source": [
        ""
      ],
      "execution_count": null,
      "outputs": []
    }
  ]
}