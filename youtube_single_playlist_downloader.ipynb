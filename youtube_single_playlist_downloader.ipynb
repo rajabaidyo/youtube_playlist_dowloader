{
  "nbformat": 4,
  "nbformat_minor": 0,
  "metadata": {
    "colab": {
      "name": "youtube_single_playlist_downloader.ipynb",
      "private_outputs": true,
      "provenance": [],
      "collapsed_sections": []
    },
    "kernelspec": {
      "name": "python3",
      "display_name": "Python 3"
    },
    "language_info": {
      "name": "python"
    }
  },
  "cells": [
    {
      "cell_type": "code",
      "metadata": {
        "id": "fDfmWuiA_JQN"
      },
      "source": [
        "#path where you want to donwload files\n",
        "%cd drive/MyDrive/neet/\n",
        "%ls"
      ],
      "execution_count": null,
      "outputs": []
    },
    {
      "cell_type": "code",
      "metadata": {
        "id": "m7AQD6s9AGQU"
      },
      "source": [
        "%pip install pytube"
      ],
      "execution_count": null,
      "outputs": []
    },
    {
      "cell_type": "code",
      "metadata": {
        "id": "FbCFok05_Ppa"
      },
      "source": [
        "from pytube import Playlist\n",
        "\n",
        "#paste the link of the playlist\n",
        "playlist = Playlist('https://www.youtube.com/watch?v=xxGJbc_HCEQ&list=PLw4_E5WmrJxsOOmOmLOStO-G1quj6cA1d')\n",
        "print('Number of videos in playlist: %s' % len(playlist.video_urls))\n"
      ],
      "execution_count": null,
      "outputs": []
    },
    {
      "cell_type": "code",
      "metadata": {
        "id": "JvzZg23OAffR"
      },
      "source": [
        "def convert(s):\n",
        "  ans=\"\"\n",
        "  for i in range(len(s)):\n",
        "    if s[i].isalnum():\n",
        "      ans+=s[i]\n",
        "    else:\n",
        "        if s[i]==' ':\n",
        "          ans+='_'\n",
        "  return ans"
      ],
      "execution_count": null,
      "outputs": []
    },
    {
      "cell_type": "code",
      "metadata": {
        "id": "3BaTd_Au_pAz"
      },
      "source": [
        "from pytube import YouTube\n",
        "data = []\n",
        "i=0\n",
        "while i<(len(playlist)):\n",
        "  check = False\n",
        "  try :\n",
        "    yt = YouTube(playlist[i])\n",
        "    print(yt.title)\n",
        "    yt.title = convert(yt.title)\n",
        "    data.append(yt.title)\n",
        "    check = True\n",
        "    stream = yt.streams.first()\n",
        "    #path of the folder where the donwloaded files will be present in zip format\n",
        "    stream.download('/content/drive/My Drive/neet')\n",
        "  except : \n",
        "    i-=1\n",
        "    if len(data)!=0 and check==True:\n",
        "      data.pop()\n",
        "    print(\"An exception occured\")\n",
        "    print(\"Trying to download again\")\n",
        "  i+=1"
      ],
      "execution_count": null,
      "outputs": []
    },
    {
      "cell_type": "code",
      "metadata": {
        "id": "nc9OgB5f_kWQ"
      },
      "source": [
        "# Create a ZipFile Object\n",
        "from zipfile import ZipFile\n",
        "\n",
        "file = open('ans'+'.zip', 'w').close()\n",
        "\n",
        "with ZipFile('ans'+'.zip', 'w') as zipObj2:\n",
        "  for i in range(len(data)):\n",
        "    print(data[i])\n",
        "    zipObj2.write(data[i]+'.mp4')\n",
        "zipObj2.close()"
      ],
      "execution_count": null,
      "outputs": []
    },
    {
      "cell_type": "code",
      "metadata": {
        "id": "uqxJ_PPVB72G"
      },
      "source": [
        "#deleting of the file after the zip object formation\n",
        "import os\n",
        "for i in range(len(data)):\n",
        "  os.system(\"rm \"+data[i]+'.mp4')"
      ],
      "execution_count": null,
      "outputs": []
    }
  ]
}